{
 "cells": [
  {
   "cell_type": "markdown",
   "id": "67ceb461",
   "metadata": {},
   "source": [
    "## Importing Libraries and Dependencies"
   ]
  },
  {
   "cell_type": "code",
   "execution_count": 1,
   "id": "a6a9ce7f",
   "metadata": {},
   "outputs": [],
   "source": [
    "# Ignoring Future Warnings\n",
    "import warnings\n",
    "warnings.simplefilter(action='ignore', category=FutureWarning)\n",
    "\n",
    "# data sources and analysis\n",
    "import pandas as pd\n",
    "from yahoo_fin import stock_info as si\n",
    "import numpy as np\n",
    "\n",
    "# Visualization\n",
    "%matplotlib inline\n",
    "import matplotlib.pyplot as plt \n",
    "plt.style.use(\"fivethirtyeight\")\n",
    "import seaborn as sns\n",
    "\n",
    "# Portfolio Optimization\n",
    "from pypfopt.efficient_frontier import EfficientFrontier\n",
    "from pypfopt import risk_models\n",
    "from pypfopt import expected_returns\n",
    "\n",
    "# Get discrete allocation of each share per stock\n",
    "# need to install this package by running the command through terminal            conda install -c conda-forge cvxopt\n",
    "from pypfopt.discrete_allocation import DiscreteAllocation, get_latest_prices"
   ]
  },
  {
   "cell_type": "code",
   "execution_count": 2,
   "id": "24c03182",
   "metadata": {},
   "outputs": [
    {
     "data": {
      "text/html": [
       "<div>\n",
       "<style scoped>\n",
       "    .dataframe tbody tr th:only-of-type {\n",
       "        vertical-align: middle;\n",
       "    }\n",
       "\n",
       "    .dataframe tbody tr th {\n",
       "        vertical-align: top;\n",
       "    }\n",
       "\n",
       "    .dataframe thead th {\n",
       "        text-align: right;\n",
       "    }\n",
       "</style>\n",
       "<table border=\"1\" class=\"dataframe\">\n",
       "  <thead>\n",
       "    <tr style=\"text-align: right;\">\n",
       "      <th></th>\n",
       "      <th>Ticker</th>\n",
       "      <th>Returns Compared</th>\n",
       "      <th>Score</th>\n",
       "    </tr>\n",
       "  </thead>\n",
       "  <tbody>\n",
       "    <tr>\n",
       "      <th>0</th>\n",
       "      <td>AAPL</td>\n",
       "      <td>6.63</td>\n",
       "      <td>97.285068</td>\n",
       "    </tr>\n",
       "    <tr>\n",
       "      <th>1</th>\n",
       "      <td>ABMD</td>\n",
       "      <td>9.40</td>\n",
       "      <td>98.868778</td>\n",
       "    </tr>\n",
       "    <tr>\n",
       "      <th>2</th>\n",
       "      <td>ACN</td>\n",
       "      <td>2.57</td>\n",
       "      <td>81.108597</td>\n",
       "    </tr>\n",
       "    <tr>\n",
       "      <th>3</th>\n",
       "      <td>ADBE</td>\n",
       "      <td>3.03</td>\n",
       "      <td>86.764706</td>\n",
       "    </tr>\n",
       "    <tr>\n",
       "      <th>4</th>\n",
       "      <td>ADP</td>\n",
       "      <td>2.14</td>\n",
       "      <td>73.755656</td>\n",
       "    </tr>\n",
       "  </tbody>\n",
       "</table>\n",
       "</div>"
      ],
      "text/plain": [
       "  Ticker  Returns Compared      Score\n",
       "0   AAPL              6.63  97.285068\n",
       "1   ABMD              9.40  98.868778\n",
       "2    ACN              2.57  81.108597\n",
       "3   ADBE              3.03  86.764706\n",
       "4    ADP              2.14  73.755656"
      ]
     },
     "execution_count": 2,
     "metadata": {},
     "output_type": "execute_result"
    }
   ],
   "source": [
    "## Reading the best performers from the Database\n",
    "best_performers = pd.read_csv('best_performers.csv')\n",
    "best_performers.head()"
   ]
  },
  {
   "cell_type": "code",
   "execution_count": 3,
   "id": "80b0184b",
   "metadata": {},
   "outputs": [],
   "source": [
    "## Initializing the final_df DataFrame\n",
    "final_df = pd.DataFrame(columns = ['Tickers', 'Latest_Price', 'Score', 'PE_Ratio','PEG_Ratio','SMA_150', 'SMA_200', '52_week_low', '52_week_high'])"
   ]
  },
  {
   "cell_type": "code",
   "execution_count": null,
   "id": "02fba4fa",
   "metadata": {},
   "outputs": [],
   "source": [
    "# We have to drop the peg ratio from our conditions because it was missing for some of the tickers and was giving error\n",
    "# We could have pulled the beta value and make a condition out of it but due ti limitation of time couldn'e do it\n",
    "for ticker in best_performers['Ticker']:\n",
    "    try:\n",
    "        df = pd.read_csv(f'stock_data/{ticker}.csv', index_col = 0)\n",
    "        moving_avg = [150, 200]\n",
    "        for ma in moving_avg:\n",
    "            df['SMA_'+str(ma)] = round(df['Adj Close'].rolling(window = int(ma)).mean(), 2)\n",
    "        latest_price = df['Adj Close'][-1]\n",
    "        pe_ratio = float(si.get_quote_table(ticker)['PE Ratio (TTM)'])\n",
    "#         peg_ratio = float(si.get_stats_valuation(ticker)[1][4])\n",
    "        moving_average_150 = df['SMA_150'][-1]\n",
    "        moving_average_200 = df['SMA_200'][-1]\n",
    "        low_52week = round(min(df['Low'][-(52*5):]), 2) # 5 days of trading times 52 week in a year\n",
    "        high_52week = round(max(df['High'][-(52*5):]), 2)\n",
    "        score = round(best_performers[best_performers['Ticker'] == ticker]['Score'].tolist()[0])\n",
    "            \n",
    "        # Conditions\n",
    "        condition_1 = latest_price > moving_average_150 > moving_average_200\n",
    "        condition_2 = latest_price >= (1.3 * low_52week)\n",
    "        condition_3 = latest_price >= (0.75 * high_52week)\n",
    "        condition_4 = pe_ratio < 40\n",
    "#         condition_5 = peg_ratio < 2\n",
    "            \n",
    "        # Conditional\n",
    "        if condition_1 and condition_2 and condition_3:            #condition_1 and condition_2 and condition_3 and \n",
    "            final_df = final_df.append({'Tickers': ticker,\n",
    "                                        'Latest_Price': latest_price,\n",
    "                                        'Score': score,\n",
    "                                        'PE_Ratio': pe_ratio,\n",
    "#                                         'PEG_Ratio': peg_ratio,\n",
    "                                        'SMA_150': moving_average_150,\n",
    "                                        'SMA_200': moving_average_200,\n",
    "                                        '52_week_low': low_52week,\n",
    "                                        '52_week_high': high_52week}, \n",
    "                                         ignore_index = True)\n",
    "    \n",
    "    except Exception as e:\n",
    "        print(f\"{e} for {ticker}\")"
   ]
  },
  {
   "cell_type": "code",
   "execution_count": null,
   "id": "036d76f9",
   "metadata": {},
   "outputs": [],
   "source": [
    "final_df.sort_values(by = 'Score', ascending = False)\n",
    "pd.set_option('display.max_columns', 10)\n",
    "final_df.to_csv('portfolio/portfolio4-SMA-low-high.csv')\n",
    "final_df"
   ]
  },
  {
   "cell_type": "markdown",
   "id": "a323ed33",
   "metadata": {},
   "source": [
    "## Visualization"
   ]
  },
  {
   "cell_type": "code",
   "execution_count": null,
   "id": "6f7e999d",
   "metadata": {},
   "outputs": [],
   "source": [
    "# Visually show the stock Portfolio\n",
    "title = 'Portfolio Adj. Close Price History for Portfolio 4'\n",
    "\n",
    "# Get the tickers for our Portfolio\n",
    "my_stocks = final_df['Tickers']\n",
    "\n",
    "# Create and plot the graph\n",
    "plt.figure(figsize=(12, 10), dpi=80)\n",
    "for ticker in my_stocks:\n",
    "    df1 = pd.read_csv(f\"stock_data/{ticker}.csv\", index_col = [0], parse_dates = [0]) \n",
    "    plt.plot(df1['Adj Close'], label = ticker)\n",
    "\n",
    "plt.title(title, fontsize = 22)\n",
    "plt.xlabel('Date', fontsize = 18)\n",
    "plt.ylabel('Adj Price USD ($)', fontsize = 18)\n",
    "plt.legend(my_stocks, loc = 'upper left')\n",
    "plt.savefig('figures/portfolio_4.png')\n",
    "plt.savefig('figures/portfolio_4.pdf')\n",
    "plt.show()"
   ]
  },
  {
   "cell_type": "markdown",
   "id": "334d2f30",
   "metadata": {},
   "source": [
    "# Calculating Returns"
   ]
  },
  {
   "cell_type": "code",
   "execution_count": null,
   "id": "c9139a76",
   "metadata": {},
   "outputs": [],
   "source": [
    "# show the daily simple returns\n",
    "portfolio = pd.DataFrame()\n",
    "portfolio_returns = pd.DataFrame()\n",
    "for ticker in my_stocks:\n",
    "    df2 = pd.read_csv(f\"stock_data/{ticker}.csv\", index_col = [0], parse_dates = [0]) \n",
    "    portfolio[ticker] = df2['Adj Close']\n",
    "    portfolio_returns[ticker] = df2['Adj Close'].pct_change().dropna()\n",
    "portfolio_returns.head()"
   ]
  },
  {
   "cell_type": "code",
   "execution_count": null,
   "id": "5db3708a",
   "metadata": {},
   "outputs": [],
   "source": [
    "# Making a heat map representing the correlation matrix\n",
    "plt.figure(figsize = (12, 10))\n",
    "sns.set(font_scale = 1.4)\n",
    "sns.heatmap(portfolio_returns.corr(), cmap = \"Reds\", annot = True, annot_kws = {\"size\": 5}, vmax = 0.5)\n",
    "plt.savefig('figures/portfolio_4_hm.png')\n",
    "plt.savefig('figures/portfolio_4_hm.pdf')\n",
    "plt.show()"
   ]
  },
  {
   "cell_type": "code",
   "execution_count": null,
   "id": "c8d4b743",
   "metadata": {},
   "outputs": [],
   "source": [
    "# Create and show the annualized covariance matrix\n",
    "cov_matrix_annual = portfolio_returns.cov() * 252\n",
    "cov_matrix_annual"
   ]
  },
  {
   "cell_type": "code",
   "execution_count": null,
   "id": "fdb20f31",
   "metadata": {},
   "outputs": [],
   "source": [
    "# Calculate the portfolio variance\n",
    "# weights = np.full((1, 30), 0.033)\n",
    "weights = np.empty(len(final_df)); weights.fill(1/len(final_df))\n",
    "port_variance = np.dot(weights.T, np.dot(cov_matrix_annual, weights))\n",
    "port_variance"
   ]
  },
  {
   "cell_type": "code",
   "execution_count": null,
   "id": "0ec8fec6",
   "metadata": {},
   "outputs": [],
   "source": [
    "# Calculate portfolio Volatility aka Standard Deviation\n",
    "port_volatility = np.sqrt(port_variance)\n",
    "port_volatility"
   ]
  },
  {
   "cell_type": "code",
   "execution_count": null,
   "id": "381b114b",
   "metadata": {},
   "outputs": [],
   "source": [
    "# Calculate annual portfolio returns\n",
    "port_simple_annual_return = np.sum(portfolio_returns.mean() * weights) * 252\n",
    "port_simple_annual_return"
   ]
  },
  {
   "cell_type": "code",
   "execution_count": null,
   "id": "b39c834e",
   "metadata": {},
   "outputs": [],
   "source": [
    "# Show the expected annual return, volatility (risk), and variance\n",
    "percent_var = str(round(port_variance, 2) * 100) + '%'\n",
    "percent_volatility = str(round(port_volatility, 2) * 100) + '%'\n",
    "percent_ret = str(round(port_simple_annual_return, 2) * 100) + '%'\n",
    "\n",
    "print('Expected annual return: '+ percent_ret)\n",
    "print('Annual Volatility / Risk: '+ percent_volatility)\n",
    "print('Annual Variance: '+ percent_var)"
   ]
  },
  {
   "cell_type": "markdown",
   "id": "74a161e9",
   "metadata": {},
   "source": [
    "# Portfolio Optimization"
   ]
  },
  {
   "cell_type": "code",
   "execution_count": null,
   "id": "de4c562d",
   "metadata": {},
   "outputs": [],
   "source": [
    "from pypfopt.efficient_frontier import EfficientFrontier\n",
    "from pypfopt import risk_models\n",
    "from pypfopt import expected_returns"
   ]
  },
  {
   "cell_type": "code",
   "execution_count": null,
   "id": "6991a018",
   "metadata": {},
   "outputs": [],
   "source": [
    "# Portfolio Optimization\n",
    "\n",
    "# Calculate the expected returns and the annualized samplecovariance matrix of asset returns\n",
    "mu = expected_returns.mean_historical_return(portfolio)\n",
    "S = risk_models.sample_cov(portfolio)\n",
    "\n",
    "# Optimize for maximum sharpe ratio\n",
    "ef = EfficientFrontier(mu, S)\n",
    "weights = ef.max_sharpe()\n",
    "cleaned_weights = ef.clean_weights()\n",
    "print(cleaned_weights)\n",
    "ef.portfolio_performance(verbose = True)"
   ]
  },
  {
   "cell_type": "code",
   "execution_count": null,
   "id": "e36beb71",
   "metadata": {},
   "outputs": [],
   "source": [
    "# Get discrete allocation of each share per stock\n",
    "# need to install this package by running the command through terminal            conda install -c conda-forge cvxopt\n",
    "from pypfopt.discrete_allocation import DiscreteAllocation, get_latest_prices\n",
    "\n",
    "latest_prices = get_latest_prices(portfolio)\n",
    "weights = cleaned_weights\n",
    "da = DiscreteAllocation(weights, latest_prices, total_portfolio_value = 15000)\n",
    "\n",
    "allocation, leftover = da.lp_portfolio()\n",
    "print('Discrete Allocation: '+ str(allocation))\n",
    "print('Funds Remaining: ${:.2f}'.format(leftover))"
   ]
  },
  {
   "cell_type": "code",
   "execution_count": null,
   "id": "31fc88eb",
   "metadata": {},
   "outputs": [],
   "source": [
    "# Visually show the stock Portfolio\n",
    "title = 'Final Portfolio Adj. Close Price History for Portfolio 4'\n",
    "\n",
    "# Get the tickers for our Portfolio\n",
    "stocks_to_invest = list()\n",
    "for i in allocation.keys():\n",
    "    stocks_to_invest.append(i)\n",
    "stocks_to_invest\n",
    "\n",
    "# Create and plot the graph\n",
    "plt.figure(figsize=(12, 10), dpi=80)\n",
    "for ticker in stocks_to_invest:\n",
    "    df1 = pd.read_csv(f\"stock_data/{ticker}.csv\", index_col = [0], parse_dates = [0]) \n",
    "    plt.plot(df1['Normalized Adj Close'], label = ticker)\n",
    "\n",
    "plt.title(title, fontsize = 22)\n",
    "plt.xlabel('Date', fontsize = 18)\n",
    "plt.ylabel('Adj Price USD ($)', fontsize = 18)\n",
    "plt.legend(stocks_to_invest, loc = 'upper left')\n",
    "plt.savefig('figures/portfolio_4_optimized.png')\n",
    "plt.savefig('figures/portfolio_4_optimized.pdf')\n",
    "plt.show()"
   ]
  },
  {
   "cell_type": "code",
   "execution_count": null,
   "id": "bbf1546a",
   "metadata": {},
   "outputs": [],
   "source": [
    "# Saving the Stock Allocation to csv\n",
    "data_items = allocation.items()\n",
    "data_list = list(data_items)\n",
    "stocks_to_invest_with_allocation = pd.DataFrame(data_list, columns = ['Tickers', 'Allocation'])"
   ]
  },
  {
   "cell_type": "code",
   "execution_count": null,
   "id": "288bd8db",
   "metadata": {},
   "outputs": [],
   "source": [
    "stocks_to_invest_with_allocation.to_csv('portfolio/portfolio-4-optimized-stock-allocation.csv', index = None)"
   ]
  },
  {
   "cell_type": "code",
   "execution_count": null,
   "id": "970d730e",
   "metadata": {},
   "outputs": [],
   "source": [
    "# show the daily simple returns\n",
    "final_portfolio = pd.DataFrame()\n",
    "final_portfolio_returns = pd.DataFrame()\n",
    "for ticker in stocks_to_invest:\n",
    "    df3 = pd.read_csv(f\"stock_data/{ticker}.csv\", index_col = [0], parse_dates = [0]) \n",
    "    final_portfolio[ticker] = df3['Adj Close']\n",
    "    final_portfolio_returns[ticker] = df3['Adj Close'].pct_change().dropna()\n",
    "final_portfolio_returns"
   ]
  },
  {
   "cell_type": "code",
   "execution_count": null,
   "id": "5ee18050",
   "metadata": {},
   "outputs": [],
   "source": [
    "# Making a heat map representing the correlation matrix\n",
    "title1 = \"Correlation Matrix for Portfolio 1\"\n",
    "\n",
    "plt.figure(figsize = (12, 10))\n",
    "sns.set(font_scale = 1.4)\n",
    "sns.heatmap(final_portfolio_returns.corr(), cmap = \"Reds\", annot = True, annot_kws = {\"size\": 15}, vmax = 0.5)\n",
    "plt.title(title1, fontsize = 22)\n",
    "plt.savefig('figures/optimized_portfolio_4_hm.png')\n",
    "plt.savefig('figures/optimized_portfolio_4_hm.pdf')\n",
    "plt.show()"
   ]
  },
  {
   "cell_type": "code",
   "execution_count": null,
   "id": "551bcc29",
   "metadata": {},
   "outputs": [],
   "source": []
  }
 ],
 "metadata": {
  "kernelspec": {
   "display_name": "Python 3 (ipykernel)",
   "language": "python",
   "name": "python3"
  },
  "language_info": {
   "codemirror_mode": {
    "name": "ipython",
    "version": 3
   },
   "file_extension": ".py",
   "mimetype": "text/x-python",
   "name": "python",
   "nbconvert_exporter": "python",
   "pygments_lexer": "ipython3",
   "version": "3.9.7"
  }
 },
 "nbformat": 4,
 "nbformat_minor": 5
}
